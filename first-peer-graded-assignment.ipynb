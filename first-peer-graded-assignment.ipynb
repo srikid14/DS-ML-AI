{
 "cells": [
  {
   "cell_type": "markdown",
   "id": "8bf7d5db-476d-4ba2-bcf1-2aab08a80919",
   "metadata": {},
   "source": [
    "## PEER GRADED ASSIGNMENT"
   ]
  },
  {
   "cell_type": "markdown",
   "id": "bce84924-f887-4798-9531-5e433d0cfc19",
   "metadata": {},
   "source": [
    "### introduction \n",
    "\n",
    "> This is my first graded assignment\\\n",
    "> creating  documentation using markdown language is fun\\\n",
    "> MDL seems to be basic but witht he combination of these tags we are able to pull off some cool formatting\n",
    "\n"
   ]
  },
  {
   "cell_type": "markdown",
   "id": "d63fa75d-c4e3-4400-9201-eaa113ea08ea",
   "metadata": {},
   "source": [
    "### List of Data science languages\n",
    "\n",
    "> 1. Python\n",
    "> 2. R\n",
    "> 3. julia\n",
    "> 4. VS"
   ]
  },
  {
   "cell_type": "markdown",
   "id": "dacb7d6c-5b19-43ee-befb-34d59c107f06",
   "metadata": {},
   "source": [
    "**Some of the Data science libs:**\n",
    "\n",
    ">1. numpy\n",
    "2. scipy\n",
    "3. matplotlib\n",
    "4. simpy\n",
    "5. pandas\n"
   ]
  },
  {
   "cell_type": "markdown",
   "id": "c33d239a-d86c-42ef-a5a8-8bab9191c80a",
   "metadata": {},
   "source": [
    "**Some of the data science tools:**\n",
    "> 1. jupyter notebook\n",
    "> 2. jupeter labs\n",
    "> 3. apache spark"
   ]
  },
  {
   "cell_type": "markdown",
   "id": "6dbcb7cf-fab2-4217-bf91-cd624d8d7d54",
   "metadata": {},
   "source": [
    "### introduction to arthmatic operations\n",
    "\n",
    "Multiplication\n",
    "\n"
   ]
  },
  {
   "cell_type": "code",
   "execution_count": 59,
   "id": "18e5db1f-bea8-456c-b781-a3e1c75d0256",
   "metadata": {},
   "outputs": [
    {
     "data": {
      "text/plain": [
       "30"
      ]
     },
     "execution_count": 59,
     "metadata": {},
     "output_type": "execute_result"
    }
   ],
   "source": [
    "5*6"
   ]
  },
  {
   "cell_type": "markdown",
   "id": "11ecd705-cc25-47da-989a-6466a17e4821",
   "metadata": {},
   "source": [
    "Addition\n",
    "\n"
   ]
  },
  {
   "cell_type": "code",
   "execution_count": 67,
   "id": "f1e768ed-0573-4d54-aa58-31dd8f424b53",
   "metadata": {},
   "outputs": [
    {
     "data": {
      "text/plain": [
       "11"
      ]
     },
     "execution_count": 67,
     "metadata": {},
     "output_type": "execute_result"
    }
   ],
   "source": [
    "5+6"
   ]
  },
  {
   "cell_type": "code",
   "execution_count": 79,
   "id": "c164d530-d7a7-4fbb-b74a-a7dbace4ca25",
   "metadata": {},
   "outputs": [
    {
     "name": "stdin",
     "output_type": "stream",
     "text": [
      "Please input minutes: 125\n"
     ]
    },
    {
     "name": "stdout",
     "output_type": "stream",
     "text": [
      "user input in hours is : 2.0833333333333335\n"
     ]
    }
   ],
   "source": [
    "user_input_minutes = input (\"Please input minutes:\")\n",
    "hours = float(user_input_minutes) / 60\n",
    "print(f\"user input in hours is : {hours}\")\n",
    "\n"
   ]
  },
  {
   "cell_type": "markdown",
   "id": "30701d80-0d51-4c4d-8356-b5f8c3857101",
   "metadata": {},
   "source": [
    "## introduction to arthmatic operations\n",
    "1. show ability to work in jupyter notebook\n",
    "2. demonstrate ability to use markdown tags\n",
    "3. ability to integrate Jupyter with GIT/ GITHUB\n",
    "4. demontrate rudimentry numeric operations using python syntax.\n"
   ]
  },
  {
   "cell_type": "markdown",
   "id": "7c5f4c67-18b4-4008-b0ca-494c35345d4c",
   "metadata": {},
   "source": [
    "### Authered by \n",
    "*srikid14*"
   ]
  },
  {
   "cell_type": "code",
   "execution_count": null,
   "id": "4dadd9d8-0407-4fd6-8fa5-87a3ccf59ac7",
   "metadata": {},
   "outputs": [],
   "source": []
  }
 ],
 "metadata": {
  "kernelspec": {
   "display_name": "Python 3 (ipykernel)",
   "language": "python",
   "name": "python3"
  },
  "language_info": {
   "codemirror_mode": {
    "name": "ipython",
    "version": 3
   },
   "file_extension": ".py",
   "mimetype": "text/x-python",
   "name": "python",
   "nbconvert_exporter": "python",
   "pygments_lexer": "ipython3",
   "version": "3.12.4"
  }
 },
 "nbformat": 4,
 "nbformat_minor": 5
}
